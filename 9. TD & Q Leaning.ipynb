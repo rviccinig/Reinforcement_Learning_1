{
 "cells": [
  {
   "cell_type": "markdown",
   "metadata": {},
   "source": [
    "# TD and Q-Learning"
   ]
  },
  {
   "cell_type": "code",
   "execution_count": 37,
   "metadata": {},
   "outputs": [],
   "source": [
    "#Setting up the Cliff Walking Environment. It is a Grid Problem still\n",
    "\n",
    "import gym\n",
    "import torch\n",
    "from collections import defaultdict\n",
    "import matplotlib.pyplot as plt\n",
    "\n",
    "env=gym.make(\"CliffWalking-v0\")\n"
   ]
  },
  {
   "cell_type": "code",
   "execution_count": 2,
   "metadata": {},
   "outputs": [
    {
     "name": "stdout",
     "output_type": "stream",
     "text": [
      "o  o  o  o  o  o  o  o  o  o  o  o\n",
      "o  o  o  o  o  o  o  o  o  o  o  o\n",
      "o  o  o  o  o  o  o  o  o  o  o  o\n",
      "x  C  C  C  C  C  C  C  C  C  C  T\n",
      "\n"
     ]
    }
   ],
   "source": [
    "#Rendering the simple enviroment the goal is 'T' , we start in the botton left corner 'x' , state 'C' is the cliff , every step I make has a reward of -1.\n",
    "env.render()"
   ]
  },
  {
   "cell_type": "code",
   "execution_count": 10,
   "metadata": {},
   "outputs": [
    {
     "data": {
      "text/plain": [
       "4"
      ]
     },
     "execution_count": 10,
     "metadata": {},
     "output_type": "execute_result"
    }
   ],
   "source": [
    "#Cliff Waling has 48 possible states and 4 posible actions.\n",
    "n_state=env.observation_space.n\n",
    "n_action=env.action_space.n\n",
    "n_action"
   ]
  },
  {
   "cell_type": "markdown",
   "metadata": {},
   "source": [
    "# Developing the Q learning Algorithm:"
   ]
  },
  {
   "cell_type": "code",
   "execution_count": 7,
   "metadata": {},
   "outputs": [],
   "source": [
    "# Q-learning just like Montecarlo is a model-free approach\n",
    "# It updates in every step the Q function\n",
    "# This is the function we are updating.\n",
    "# Action are taken given the epsilon greedy model"
   ]
  },
  {
   "attachments": {
    "image.png": {
     "image/png": "[encoded data removed]"
    }
   },
   "cell_type": "markdown",
   "metadata": {},
   "source": [
    "![image.png](attachment:image.png)"
   ]
  },
  {
   "cell_type": "markdown",
   "metadata": {},
   "source": [
    "# STEP 1: Define the epsilon greedy policy"
   ]
  },
  {
   "cell_type": "code",
   "execution_count": 40,
   "metadata": {},
   "outputs": [],
   "source": [
    "def gen_epsilon_greedy_policy(n_action,epsilon):\n",
    "    def policy_function(state,Q):\n",
    "        #1.Epsilon is the tradeoff between learning and doing the same action\n",
    "        #2.In this case is going to give the same probability to all actions. if Epsilon=0.5 tensor(0.0625,0.0625,0.0625,0.0625)\n",
    "        probs=torch.ones(n_action)*epsilon/n_action\n",
    "        #3.Determines teh best action given the best option the current state of the Q function. If Q{states} does not exist a new one is created with a random tensor  (xx,xxx,xxx,xxx,xxx)\n",
    "        best_action=torch.argmax(Q[state]).item()\n",
    "        #4.It attaches a largest probability to select the best action probs=tensor(0.5625,0.0625,0.0625,0.0625)\n",
    "        probs[best_action]+=1-epsilon\n",
    "        #5. Facinating it ends up exploring everything !!! The policy changes at every step! So the action it selections is different\n",
    "        action=torch.multinomial(probs,1).item()\n",
    "        return action\n",
    "    return policy_function"
   ]
  },
  {
   "cell_type": "markdown",
   "metadata": {},
   "source": [
    "# STEP 2: Define the Q-LEARNING FUNCTION"
   ]
  },
  {
   "cell_type": "code",
   "execution_count": 50,
   "metadata": {},
   "outputs": [],
   "source": [
    "def q_learning(env,gamma,n_episode,alpha):\n",
    "    #1.Look at the action space\n",
    "    n_action=env.action_space.n\n",
    "    #2.Create the Q-Function to be updates\n",
    "    Q=defaultdict(lambda:torch.zeros(n_action))\n",
    "    #3. Run an Episode\n",
    "    for episode in range(n_episode):\n",
    "    #4.Reset the enviroment and define variables that define when to stop    \n",
    "        state=env.reset()\n",
    "        is_done=False\n",
    "        while not is_done:\n",
    "    #5.Generate action based on the episilon greedy policy        \n",
    "            action=epsilon_greedy_policy(state,Q)\n",
    "            next_state, reward,is_done,info=env.step(action)\n",
    "    #6.Temporal DEfirence delta is how much my Q function is being updated!!! (r+ gamma(max(Q(next_state,) - Qstate(action))))        \n",
    "            td_delta=reward + gamma*torch.max(Q[next_state])-Q[state][action]\n",
    "    #7.I update the que Q function Value. Q[state][actions] + alpha*td_delta\n",
    "    #8.Aplpha is my learning rate. How much Am I capturing it is obvious that if alpha is large close to 1 we learn less because that function grows fast\n",
    "    #9.If a want to spend less time put Alpha large\n",
    "            Q[state][action]+=alpha*td_delta\n",
    "    #9.1 We track the lenght and reward of the episode\n",
    "            length_episode[episode]+=1\n",
    "            total_reward_episode[episode]+=reward\n",
    "            if is_done:\n",
    "                break\n",
    "    #10. If the episode does not finish In the next iteration in the while loop I generation a new policy and a new action based on the state i am at            \n",
    "            state=next_state\n",
    "    #11. For the first episode I have a Q function with all the states I visited and all the values updated    \n",
    "    #12. When I have my optimum Q I can calculate the optimum policy by simply being greedy and selecting the best course of action for every state\n",
    "    policy={}\n",
    "    for state, actions in Q.items():\n",
    "        policy[state]=torch.argmax(actions).item()\n",
    "    return Q, policy"
   ]
  },
  {
   "cell_type": "markdown",
   "metadata": {},
   "source": [
    "# STEP 3: RUNNING THE EXPERIMENT\n"
   ]
  },
  {
   "cell_type": "code",
   "execution_count": 51,
   "metadata": {},
   "outputs": [],
   "source": [
    "gamma=1\n",
    "n_episode=500\n",
    "alpha=0.4\n",
    "epsilon=0.1\n",
    "\n",
    "epsilon_greedy_policy=gen_epsilon_greedy_policy(env.action_space.n,epsilon)"
   ]
  },
  {
   "cell_type": "code",
   "execution_count": 52,
   "metadata": {},
   "outputs": [],
   "source": [
    "#This is just to keep track of the length\n",
    "length_episode=[0]*n_episode\n",
    "total_reward_episode=[0]*n_episode\n",
    "#Running episode\n",
    "\n",
    "optimal_Q, optimal_policy=q_learning(env, gamma, n_episode, alpha)"
   ]
  },
  {
   "cell_type": "code",
   "execution_count": 53,
   "metadata": {},
   "outputs": [
    {
     "data": {
      "text/plain": [
       "defaultdict(<function __main__.q_learning.<locals>.<lambda>()>,\n",
       "            {36: tensor([ -13.0000, -112.9445,  -13.9992,  -13.9968]),\n",
       "             24: tensor([-13.5834, -12.0000, -14.0000, -12.9998]),\n",
       "             12: tensor([-13.0142, -12.7392, -12.7020, -13.2130]),\n",
       "             0: tensor([-12.6976, -12.5122, -12.4501, -12.5440]),\n",
       "             1: tensor([-12.0000, -11.8022, -12.0261, -12.4972]),\n",
       "             2: tensor([-11.2429, -11.0415, -11.1945, -11.1279]),\n",
       "             3: tensor([-10.4000, -10.1809, -10.4771, -10.6374]),\n",
       "             4: tensor([-9.5936, -9.3603, -9.3557, -9.8025]),\n",
       "             5: tensor([-8.7643, -8.5159, -8.6066, -8.5158]),\n",
       "             6: tensor([-7.9870, -7.6525, -7.7721, -8.1389]),\n",
       "             7: tensor([-6.8000, -6.7329, -6.7913, -6.9376]),\n",
       "             8: tensor([-5.9502, -5.7896, -5.8577, -6.6387]),\n",
       "             9: tensor([-5.2000, -4.8686, -4.9109, -5.0849]),\n",
       "             10: tensor([-4.0000, -3.9392, -3.9618, -4.3149]),\n",
       "             11: tensor([-3.2000, -3.5104, -2.9948, -3.0059]),\n",
       "             23: tensor([-3.1098, -2.6400, -2.0000, -3.0363]),\n",
       "             22: tensor([-3.9794, -3.0000, -3.0000, -3.9416]),\n",
       "             35: tensor([-2.9963, -1.9952, -1.0000, -2.9999]),\n",
       "             21: tensor([-4.1185, -4.0000, -4.0000, -5.0581]),\n",
       "             20: tensor([-5.8096, -5.0000, -5.0000, -5.2524]),\n",
       "             19: tensor([-6.9874, -5.9999, -5.9999, -7.6147]),\n",
       "             17: tensor([-8.8242, -7.9994, -7.9996, -9.0422]),\n",
       "             16: tensor([-9.5664, -8.9985, -8.9981, -9.8288]),\n",
       "             15: tensor([-10.2674,  -9.9963,  -9.9959, -10.7386]),\n",
       "             14: tensor([-11.2264, -10.9803, -10.9754, -11.5742]),\n",
       "             13: tensor([-12.1124, -11.9402, -11.9348, -12.6044]),\n",
       "             26: tensor([ -11.8515,  -10.0000, -112.9014,  -11.9949]),\n",
       "             25: tensor([ -12.8577,  -11.0000, -112.9603,  -12.9957]),\n",
       "             18: tensor([-7.9696, -6.9997, -6.9998, -7.0551]),\n",
       "             34: tensor([  -3.9991,   -2.0000, -112.8137,   -3.9899]),\n",
       "             33: tensor([  -4.9982,   -3.0000, -109.5901,   -4.9996]),\n",
       "             47: tensor([0., 0., 0., 0.]),\n",
       "             27: tensor([ -10.9822,   -9.0000, -112.9925,  -10.9858]),\n",
       "             28: tensor([  -9.9910,   -8.0000, -112.5337,   -9.9999]),\n",
       "             32: tensor([  -5.9922,   -4.0000, -112.9794,   -5.9914]),\n",
       "             29: tensor([  -8.9975,   -7.0000, -112.8896,   -8.9999]),\n",
       "             30: tensor([  -7.9900,   -6.0000, -112.9344,   -7.9994]),\n",
       "             31: tensor([  -6.9880,   -5.0000, -112.2534,   -6.9995])})"
      ]
     },
     "execution_count": 53,
     "metadata": {},
     "output_type": "execute_result"
    }
   ],
   "source": [
    "optimal_Q\n"
   ]
  },
  {
   "cell_type": "code",
   "execution_count": 54,
   "metadata": {},
   "outputs": [
    {
     "data": {
      "text/plain": [
       "{36: 0,\n",
       " 24: 1,\n",
       " 12: 2,\n",
       " 0: 2,\n",
       " 1: 1,\n",
       " 2: 1,\n",
       " 3: 1,\n",
       " 4: 2,\n",
       " 5: 3,\n",
       " 6: 1,\n",
       " 7: 1,\n",
       " 8: 1,\n",
       " 9: 1,\n",
       " 10: 1,\n",
       " 11: 2,\n",
       " 23: 2,\n",
       " 22: 2,\n",
       " 35: 2,\n",
       " 21: 2,\n",
       " 20: 1,\n",
       " 19: 1,\n",
       " 17: 1,\n",
       " 16: 2,\n",
       " 15: 2,\n",
       " 14: 2,\n",
       " 13: 2,\n",
       " 26: 1,\n",
       " 25: 1,\n",
       " 18: 1,\n",
       " 34: 1,\n",
       " 33: 1,\n",
       " 47: 0,\n",
       " 27: 1,\n",
       " 28: 1,\n",
       " 32: 1,\n",
       " 29: 1,\n",
       " 30: 1,\n",
       " 31: 1}"
      ]
     },
     "execution_count": 54,
     "metadata": {},
     "output_type": "execute_result"
    }
   ],
   "source": [
    "optimal_policy"
   ]
  },
  {
   "cell_type": "code",
   "execution_count": 55,
   "metadata": {},
   "outputs": [],
   "source": [
    "#Plotting the length of the episodes to see how long it took us to learn the optimum policy:"
   ]
  },
  {
   "cell_type": "code",
   "execution_count": 56,
   "metadata": {},
   "outputs": [
    {
     "data": {
      "text/plain": [
       "[<matplotlib.lines.Line2D at 0x7f8770984370>]"
      ]
     },
     "execution_count": 56,
     "metadata": {},
     "output_type": "execute_result"
    },
    {
     "data": {
      "image/png": "[encoded data removed]",
      "text/plain": [
       "<Figure size 432x288 with 1 Axes>"
      ]
     },
     "metadata": {
      "needs_background": "light"
     },
     "output_type": "display_data"
    }
   ],
   "source": [
    "plt.plot(length_episode)"
   ]
  },
  {
   "cell_type": "code",
   "execution_count": 57,
   "metadata": {},
   "outputs": [
    {
     "data": {
      "text/plain": [
       "[<matplotlib.lines.Line2D at 0x7f877095b070>]"
      ]
     },
     "execution_count": 57,
     "metadata": {},
     "output_type": "execute_result"
    },
    {
     "data": {
      "image/png": "[encoded data removed]",
      "text/plain": [
       "<Figure size 432x288 with 1 Axes>"
      ]
     },
     "metadata": {
      "needs_background": "light"
     },
     "output_type": "display_data"
    }
   ],
   "source": [
    "plt.plot(total_reward_episode)"
   ]
  },
  {
   "cell_type": "code",
   "execution_count": null,
   "metadata": {},
   "outputs": [],
   "source": []
  }
 ],
 "metadata": {
  "kernelspec": {
   "display_name": "Python 3",
   "language": "python",
   "name": "python3"
  },
  "language_info": {
   "codemirror_mode": {
    "name": "ipython",
    "version": 3
   },
   "file_extension": ".py",
   "mimetype": "text/x-python",
   "name": "python",
   "nbconvert_exporter": "python",
   "pygments_lexer": "ipython3",
   "version": "3.8.3"
  }
 },
 "nbformat": 4,
 "nbformat_minor": 4
}
