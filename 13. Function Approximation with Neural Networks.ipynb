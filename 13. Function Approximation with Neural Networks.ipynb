{
 "cells": [
  {
   "cell_type": "markdown",
   "metadata": {},
   "source": [
    "# Deep Q-Learning"
   ]
  },
  {
   "cell_type": "code",
   "execution_count": 3,
   "metadata": {},
   "outputs": [],
   "source": [
    "#Import Packages\n",
    "import torch\n",
    "from torch.autograd import Variable\n",
    "\n",
    "#Create Environment\n",
    "env=gym.envs.make('MountainCar-v0')\n"
   ]
  },
  {
   "cell_type": "code",
   "execution_count": 5,
   "metadata": {},
   "outputs": [],
   "source": [
    "#The objective is to find the best neural configuration that to model Q"
   ]
  },
  {
   "cell_type": "code",
   "execution_count": 7,
   "metadata": {},
   "outputs": [],
   "source": [
    "class DQN():\n",
    "    def __init__(self,n_state,n_action,n_hidden=50,lr=0.05):\n",
    "        self.criterion=torch.nn.MSELoss()\n",
    "        self.model=torch.nn.Sequential(torch.nn.Linear(n_state,n_hidden),torch.nn.ReLU(),torch.nn.Linear(n_hidden,n_action))\n",
    "        self.optimizer=torch.optim.Adam(self.model.paramenters(),lr)\n",
    "    def update(self,s,y):\n",
    "        y_pred=self.model(torch.tensor(s))\n",
    "        loss=self.criterion(y_pred,Variable(torch.tensor(y)))\n",
    "        self.optimezer.zero_grad()\n",
    "        loss.backward()\n",
    "        self.optimizer.step()\n",
    "    def predict(self,s):\n",
    "        with torch.no_grad():\n",
    "            return self.model(torch.tensor(s))\n"
   ]
  },
  {
   "cell_type": "code",
   "execution_count": 6,
   "metadata": {},
   "outputs": [],
   "source": [
    "# Function epsilo gredy me esta returnado aqui o la estimacion de mi q function usando el algoritmo o un valor aleatorio\n",
    "def gen_epsilon_greedy_policy(estimator,epsilon,n_action):\n",
    "    def policy_function(state):\n",
    "        if random.random()<epsilon:\n",
    "            return random.randint(0,n_action-1)\n",
    "        else:\n",
    "            q_values=estimator.predict(state)\n",
    "            return torch.argmax(q_values).item()\n",
    "    return policy_function\n",
    "            "
   ]
  },
  {
   "cell_type": "code",
   "execution_count": 11,
   "metadata": {},
   "outputs": [
    {
     "data": {
      "text/plain": [
       "3"
      ]
     },
     "execution_count": 11,
     "metadata": {},
     "output_type": "execute_result"
    }
   ],
   "source": [
    "random.randint(0,4)"
   ]
  },
  {
   "cell_type": "code",
   "execution_count": null,
   "metadata": {},
   "outputs": [],
   "source": []
  }
 ],
 "metadata": {
  "kernelspec": {
   "display_name": "Python 3",
   "language": "python",
   "name": "python3"
  },
  "language_info": {
   "codemirror_mode": {
    "name": "ipython",
    "version": 3
   },
   "file_extension": ".py",
   "mimetype": "text/x-python",
   "name": "python",
   "nbconvert_exporter": "python",
   "pygments_lexer": "ipython3",
   "version": "3.8.3"
  }
 },
 "nbformat": 4,
 "nbformat_minor": 4
}
